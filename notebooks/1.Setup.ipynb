{
 "cells": [
  {
   "cell_type": "code",
   "execution_count": null,
   "id": "5e504cd1-9b20-47dc-bfc9-491071ef8fbb",
   "metadata": {
    "tags": []
   },
   "outputs": [],
   "source": [
    "import boto3\n",
    "import botocore.exceptions\n",
    "import time"
   ]
  },
  {
   "cell_type": "code",
   "execution_count": null,
   "id": "9bf98cc4-6a7d-4a9d-a8df-51ca76423c6c",
   "metadata": {
    "tags": []
   },
   "outputs": [],
   "source": [
    "StackName = 'BedrockStreamIngest'\n",
    "KafkaTopic = 'streamtopic'"
   ]
  },
  {
   "cell_type": "code",
   "execution_count": null,
   "id": "6aba90c2-9137-4593-9895-2def327688b4",
   "metadata": {
    "tags": []
   },
   "outputs": [],
   "source": [
    "# Get MSK Cluster ARN (Created via CloudFormation)\n",
    "\n",
    "cf_client = boto3.client('cloudformation')\n",
    "\n",
    "try:\n",
    "    describe_stack_resource_response = cf_client.describe_stack_resource(\n",
    "        StackName = StackName,\n",
    "        LogicalResourceId = 'MSKCluster'\n",
    "    )\n",
    "    \n",
    "    MSKClusterArn = describe_stack_resource_response['StackResourceDetail']['PhysicalResourceId']\n",
    "    print('MSK Cluster ARN:', MSKClusterArn)\n",
    "\n",
    "except botocore.exceptions.ClientError as error:\n",
    "    print(error)\n",
    "    raise error"
   ]
  },
  {
   "cell_type": "code",
   "execution_count": null,
   "id": "58dc4bc9-0914-4c4b-84b7-cd2f045b0a14",
   "metadata": {
    "tags": []
   },
   "outputs": [],
   "source": [
    "# Get MSK cluster client connection string (Created via CloudFormation)\n",
    "\n",
    "kafka_client = boto3.client('kafka')\n",
    "\n",
    "try:\n",
    "    get_bootstrap_brokers_response = kafka_client.get_bootstrap_brokers(\n",
    "        ClusterArn = MSKClusterArn\n",
    "    )\n",
    "    BootstrapBrokerString = get_bootstrap_brokers_response['BootstrapBrokerString']\n",
    "    print(BootstrapBrokerString)\n",
    "    \n",
    "except botocore.exceptions.ClientError as error:\n",
    "    print(error)\n",
    "    raise error"
   ]
  },
  {
   "cell_type": "markdown",
   "id": "e131e427-50fe-41f7-a348-aac0ee549378",
   "metadata": {},
   "source": [
    "Run terminal commands now\n",
    "\n",
    "\n",
    "\n",
    "Apache Kafka client installation from SageMaker Studio terminal window\n",
    "\n",
    "- Navigate to SageMaker Studio environment.\n",
    "- In the top menu, hit \"File\" and choose \"New\" -> \"Terminal\".\n",
    "- Once a terminal window is fully available, execute commands in below cells.\n",
    "- Replace the cluster-connection-string in commands below with Kafka connection string previously saved off in a temporary cation.\n",
    "\n",
    "1. Prepare the terminal environment.\n",
    "\n",
    "```\n",
    "sudo yum -y update\n",
    "sudo yum -y install java-11\n",
    "sudo yum -y install wget\n",
    "```\n",
    "\n",
    "If it is a Ubuntu system (easily find it by checking /etc/os-release file), run below commands instead  -\n",
    "\n",
    "```\n",
    "sudo apt -y update\n",
    "sudo apt-get -y install openjdk-11-jdk\n",
    "sudo apt -y install wget\n",
    "```\n",
    "\n",
    "2. Create directory for Apache Kafka client download\n",
    "\n",
    "```\n",
    "mkdir kafka\n",
    "chmod 777 kafka\n",
    "cd kafka\n",
    "```\n",
    "\n",
    "3. Download and install Apache Kafka client\n",
    "\n",
    "```\n",
    "sudo wget https://archive.apache.org/dist/kafka/3.6.0/kafka_2.13-3.6.0.tgz\n",
    "tar -xzf kafka_2.13-3.6.0.tgz\n",
    "chmod 777 kafka_2.13-3.6.0/libs\n",
    "cd kafka_2.13-3.6.0/libs\n",
    "sudo wget https://github.com/aws/aws-msk-iam-auth/releases/download/v1.1.1/aws-msk-iam-auth-1.1.1-all.jar\n",
    "cd ./../../kafka_2.13-3.6.0/\n",
    "```\n",
    "\n",
    "4. Create source topic (replace cluster-connection-string with MSK cluster connection string retrieved in cell above)\n",
    "\n",
    "```\n",
    "bin/kafka-topics.sh --create --bootstrap-server <cluster-connection-string> --replication-factor 2 --partitions 1 --topic streamtopic\n",
    "```\n",
    "\n",
    "5. Verify created topics (replace cluster-connection-string with connection string stored in temporary location)\n",
    "\n",
    "```\n",
    "bin/kafka-topics.sh --bootstrap-server <cluster-connection-string> --list\n",
    "```\n",
    "\n",
    "6. To make cleanup easier remove the kafka client. Re-install using steps above if it had to be referred again.\n",
    "\n",
    "```\n",
    "cd ..\n",
    "rm -rf kafka_2.13-3.6.0\n",
    "rm -rf kafka_2.13-3.6.0.tgz\n",
    "```\n",
    "\n",
    "7. Exit out of the terminal window\n",
    "\n",
    "```\n",
    "exit\n",
    "```"
   ]
  },
  {
   "cell_type": "markdown",
   "id": "787bb6d6-0d1f-436a-9efb-e46e496c94b9",
   "metadata": {},
   "source": [
    "Create a Bedrock Knowledge Base via the AWS console\n",
    "\n",
    "- Navigate to \"Knowledge Bases\" page within Amazon Bedrock service AWS console page.\n",
    "- Find the \"Create\" button and choose \"Knowledge Base with vector store\" option.\n",
    "- For \"Knowledge Base name\", provide \"BedrockStreamIngestKnowledgeBase\"\n",
    "- For Data Source, choose \"Custom\".\n",
    "- In Data Source configuration page, provide the name as \"BedrockStreamIngestKBCustomDS\"\n",
    "- For Embeddings Model, choose \"Titan Text Embeddings v2\"\n",
    "- Leave the rest as defaults and hit \"Create Knowledge Base\" button.\n",
    "- Wait until the Knowledge Base is created."
   ]
  },
  {
   "cell_type": "code",
   "execution_count": null,
   "id": "f0e4bd24-8a61-4aaa-96b3-8666a28234bc",
   "metadata": {
    "tags": []
   },
   "outputs": [],
   "source": [
    "# Get Knowledge Base ID (Created manually)\n",
    "\n",
    "bedrock_agent_client = boto3.client('bedrock-agent')\n",
    "KBId = \"None\"\n",
    "try:\n",
    "    list_knowledge_bases_response = bedrock_agent_client.list_knowledge_bases(\n",
    "        maxResults=100\n",
    "    )\n",
    "   \n",
    "    for knowledge_base in list_knowledge_bases_response['knowledgeBaseSummaries']:\n",
    "        if StackName in knowledge_base['name']: \n",
    "            KBId = knowledge_base['knowledgeBaseId']\n",
    "\n",
    "except botocore.exceptions.ClientError as error:\n",
    "    print(error)\n",
    "    raise error\n",
    "\n",
    "print(KBId)"
   ]
  },
  {
   "cell_type": "code",
   "execution_count": null,
   "id": "e8ccbc87-a4d6-474f-b27f-de3a4e140945",
   "metadata": {
    "tags": []
   },
   "outputs": [],
   "source": [
    "# Get the custom data source ID (Created manually)\n",
    "\n",
    "bedrock_agent_client = boto3.client('bedrock-agent')\n",
    "DSId = \"None\"\n",
    "try:\n",
    "    list_data_sources_response = bedrock_agent_client.list_data_sources(\n",
    "        knowledgeBaseId = KBId\n",
    "    )\n",
    "  \n",
    "    for data_source in list_data_sources_response['dataSourceSummaries']:\n",
    "        if StackName in data_source['name']: \n",
    "            DSId = data_source['dataSourceId']\n",
    "\n",
    "except botocore.exceptions.ClientError as error:\n",
    "    print(error)\n",
    "    raise error\n",
    "    \n",
    "print(DSId)"
   ]
  },
  {
   "cell_type": "code",
   "execution_count": null,
   "id": "e0a3489b-aa99-4e1a-9c01-32e592855c3e",
   "metadata": {
    "tags": []
   },
   "outputs": [],
   "source": [
    "# Get the physical ID of the Lambda consumer function (created via CloudFormation)\n",
    "\n",
    "cf_client = boto3.client('cloudformation')\n",
    "\n",
    "try:\n",
    "    describe_stack_resource_response = cf_client.describe_stack_resource(\n",
    "        StackName = StackName,\n",
    "        LogicalResourceId = 'KafkaConsumerLambdaFunction'\n",
    "    )\n",
    "    \n",
    "    LambdaFunctionName = describe_stack_resource_response['StackResourceDetail']['PhysicalResourceId']\n",
    "    print('Lambda Function Name:', LambdaFunctionName)\n",
    "\n",
    "except botocore.exceptions.ClientError as error:\n",
    "    print(error)\n",
    "    raise error"
   ]
  },
  {
   "cell_type": "code",
   "execution_count": null,
   "id": "6da51797-cfd9-4ebf-964d-b7c2989aefb4",
   "metadata": {
    "tags": []
   },
   "outputs": [],
   "source": [
    "# Set the KB ID and DS ID as Environment Variables of the consumer Lambda funciton\n",
    "\n",
    "lambda_client = boto3.client('lambda')\n",
    "\n",
    "try:\n",
    "    update_function_configuration_response = lambda_client.update_function_configuration(\n",
    "        FunctionName=LambdaFunctionName,\n",
    "        Environment={\n",
    "            'Variables': {\n",
    "                'KBID': KBId,\n",
    "                'DSID': DSId\n",
    "            }\n",
    "        }\n",
    "    )\n",
    "    print(update_function_configuration_response)\n",
    "    \n",
    "except botocore.exceptions.ClientError as error:\n",
    "    print(error)\n",
    "    raise error"
   ]
  },
  {
   "cell_type": "code",
   "execution_count": null,
   "id": "6e2c2740-d31c-45f2-96e7-a1e9d80f270c",
   "metadata": {
    "tags": []
   },
   "outputs": [],
   "source": [
    "# Verify if the Environment Variables are set within consumer Lambda function\n",
    "\n",
    "lambda_client = boto3.client('lambda')\n",
    "\n",
    "try:\n",
    "    get_function_response = lambda_client.get_function(\n",
    "        FunctionName=LambdaFunctionName\n",
    "    )\n",
    "    print(get_function_response['Configuration']['Environment']['Variables'])\n",
    "\n",
    "except botocore.exceptions.ClientError as error:\n",
    "    print(error)\n",
    "    raise error\n"
   ]
  },
  {
   "cell_type": "code",
   "execution_count": null,
   "id": "1d94ef10-2276-4765-8cd3-2f1500ac9897",
   "metadata": {
    "tags": []
   },
   "outputs": [],
   "source": [
    "# Add MSK topic trigger to the consumer Lambda function\n",
    "\n",
    "lambda_client = boto3.client('lambda')\n",
    "\n",
    "try:\n",
    "    create_event_source_mapping_response = lambda_client.create_event_source_mapping(\n",
    "        EventSourceArn=MSKClusterArn,\n",
    "        FunctionName=LambdaFunctionName,\n",
    "        StartingPosition='LATEST',\n",
    "        Enabled=True,\n",
    "        Topics=['streamtopic']\n",
    "    )\n",
    "    print(create_event_source_mapping_response)\n",
    "except botocore.exceptions.ClientError as error:\n",
    "    print(error)\n",
    "    raise error"
   ]
  },
  {
   "cell_type": "code",
   "execution_count": null,
   "id": "0d11191c-a38c-440f-8325-4b7387971dbf",
   "metadata": {
    "tags": []
   },
   "outputs": [],
   "source": [
    "# Ensure the MSK trigger is fully enabled\n",
    "\n",
    "lambda_client = boto3.client('lambda')\n",
    "\n",
    "max_time = time.time() + 3*60*60 # 3 hours\n",
    "while time.time() < max_time:\n",
    "    try:\n",
    "        list_event_source_mappings_response = lambda_client.list_event_source_mappings(\n",
    "            FunctionName = LambdaFunctionName,\n",
    "            EventSourceArn=MSKClusterArn\n",
    "        )\n",
    "        for mapping in list_event_source_mappings_response['EventSourceMappings']:\n",
    "            print('Event source mapping UUID:', mapping['UUID'])\n",
    "            print('Event source enablment status:', mapping['State'])\n",
    "            status = mapping['State']\n",
    "    except botocore.exceptions.ClientError as error:\n",
    "        print(error)\n",
    "        raise error\n",
    "    \n",
    "    if status == \"Enabled\" or status == \"Disabled\":\n",
    "        break        \n",
    "    time.sleep(30)"
   ]
  },
  {
   "cell_type": "code",
   "execution_count": null,
   "id": "528b5edb-60ea-4455-becd-e0a199b7bff8",
   "metadata": {
    "tags": []
   },
   "outputs": [],
   "source": [
    "%store StackName\n",
    "%store KafkaTopic\n",
    "%store LambdaFunctionName\n",
    "%store KBId\n",
    "%store DSId\n",
    "%store BootstrapBrokerString\n",
    "%store MSKClusterArn"
   ]
  },
  {
   "cell_type": "code",
   "execution_count": null,
   "id": "cab5754e-3479-4afa-a214-b12140a42ba7",
   "metadata": {},
   "outputs": [],
   "source": []
  }
 ],
 "metadata": {
  "availableInstances": [
   {
    "_defaultOrder": 0,
    "_isFastLaunch": true,
    "category": "General purpose",
    "gpuNum": 0,
    "hideHardwareSpecs": false,
    "memoryGiB": 4,
    "name": "ml.t3.medium",
    "vcpuNum": 2
   },
   {
    "_defaultOrder": 1,
    "_isFastLaunch": false,
    "category": "General purpose",
    "gpuNum": 0,
    "hideHardwareSpecs": false,
    "memoryGiB": 8,
    "name": "ml.t3.large",
    "vcpuNum": 2
   },
   {
    "_defaultOrder": 2,
    "_isFastLaunch": false,
    "category": "General purpose",
    "gpuNum": 0,
    "hideHardwareSpecs": false,
    "memoryGiB": 16,
    "name": "ml.t3.xlarge",
    "vcpuNum": 4
   },
   {
    "_defaultOrder": 3,
    "_isFastLaunch": false,
    "category": "General purpose",
    "gpuNum": 0,
    "hideHardwareSpecs": false,
    "memoryGiB": 32,
    "name": "ml.t3.2xlarge",
    "vcpuNum": 8
   },
   {
    "_defaultOrder": 4,
    "_isFastLaunch": true,
    "category": "General purpose",
    "gpuNum": 0,
    "hideHardwareSpecs": false,
    "memoryGiB": 8,
    "name": "ml.m5.large",
    "vcpuNum": 2
   },
   {
    "_defaultOrder": 5,
    "_isFastLaunch": false,
    "category": "General purpose",
    "gpuNum": 0,
    "hideHardwareSpecs": false,
    "memoryGiB": 16,
    "name": "ml.m5.xlarge",
    "vcpuNum": 4
   },
   {
    "_defaultOrder": 6,
    "_isFastLaunch": false,
    "category": "General purpose",
    "gpuNum": 0,
    "hideHardwareSpecs": false,
    "memoryGiB": 32,
    "name": "ml.m5.2xlarge",
    "vcpuNum": 8
   },
   {
    "_defaultOrder": 7,
    "_isFastLaunch": false,
    "category": "General purpose",
    "gpuNum": 0,
    "hideHardwareSpecs": false,
    "memoryGiB": 64,
    "name": "ml.m5.4xlarge",
    "vcpuNum": 16
   },
   {
    "_defaultOrder": 8,
    "_isFastLaunch": false,
    "category": "General purpose",
    "gpuNum": 0,
    "hideHardwareSpecs": false,
    "memoryGiB": 128,
    "name": "ml.m5.8xlarge",
    "vcpuNum": 32
   },
   {
    "_defaultOrder": 9,
    "_isFastLaunch": false,
    "category": "General purpose",
    "gpuNum": 0,
    "hideHardwareSpecs": false,
    "memoryGiB": 192,
    "name": "ml.m5.12xlarge",
    "vcpuNum": 48
   },
   {
    "_defaultOrder": 10,
    "_isFastLaunch": false,
    "category": "General purpose",
    "gpuNum": 0,
    "hideHardwareSpecs": false,
    "memoryGiB": 256,
    "name": "ml.m5.16xlarge",
    "vcpuNum": 64
   },
   {
    "_defaultOrder": 11,
    "_isFastLaunch": false,
    "category": "General purpose",
    "gpuNum": 0,
    "hideHardwareSpecs": false,
    "memoryGiB": 384,
    "name": "ml.m5.24xlarge",
    "vcpuNum": 96
   },
   {
    "_defaultOrder": 12,
    "_isFastLaunch": false,
    "category": "General purpose",
    "gpuNum": 0,
    "hideHardwareSpecs": false,
    "memoryGiB": 8,
    "name": "ml.m5d.large",
    "vcpuNum": 2
   },
   {
    "_defaultOrder": 13,
    "_isFastLaunch": false,
    "category": "General purpose",
    "gpuNum": 0,
    "hideHardwareSpecs": false,
    "memoryGiB": 16,
    "name": "ml.m5d.xlarge",
    "vcpuNum": 4
   },
   {
    "_defaultOrder": 14,
    "_isFastLaunch": false,
    "category": "General purpose",
    "gpuNum": 0,
    "hideHardwareSpecs": false,
    "memoryGiB": 32,
    "name": "ml.m5d.2xlarge",
    "vcpuNum": 8
   },
   {
    "_defaultOrder": 15,
    "_isFastLaunch": false,
    "category": "General purpose",
    "gpuNum": 0,
    "hideHardwareSpecs": false,
    "memoryGiB": 64,
    "name": "ml.m5d.4xlarge",
    "vcpuNum": 16
   },
   {
    "_defaultOrder": 16,
    "_isFastLaunch": false,
    "category": "General purpose",
    "gpuNum": 0,
    "hideHardwareSpecs": false,
    "memoryGiB": 128,
    "name": "ml.m5d.8xlarge",
    "vcpuNum": 32
   },
   {
    "_defaultOrder": 17,
    "_isFastLaunch": false,
    "category": "General purpose",
    "gpuNum": 0,
    "hideHardwareSpecs": false,
    "memoryGiB": 192,
    "name": "ml.m5d.12xlarge",
    "vcpuNum": 48
   },
   {
    "_defaultOrder": 18,
    "_isFastLaunch": false,
    "category": "General purpose",
    "gpuNum": 0,
    "hideHardwareSpecs": false,
    "memoryGiB": 256,
    "name": "ml.m5d.16xlarge",
    "vcpuNum": 64
   },
   {
    "_defaultOrder": 19,
    "_isFastLaunch": false,
    "category": "General purpose",
    "gpuNum": 0,
    "hideHardwareSpecs": false,
    "memoryGiB": 384,
    "name": "ml.m5d.24xlarge",
    "vcpuNum": 96
   },
   {
    "_defaultOrder": 20,
    "_isFastLaunch": false,
    "category": "General purpose",
    "gpuNum": 0,
    "hideHardwareSpecs": true,
    "memoryGiB": 0,
    "name": "ml.geospatial.interactive",
    "supportedImageNames": [
     "sagemaker-geospatial-v1-0"
    ],
    "vcpuNum": 0
   },
   {
    "_defaultOrder": 21,
    "_isFastLaunch": true,
    "category": "Compute optimized",
    "gpuNum": 0,
    "hideHardwareSpecs": false,
    "memoryGiB": 4,
    "name": "ml.c5.large",
    "vcpuNum": 2
   },
   {
    "_defaultOrder": 22,
    "_isFastLaunch": false,
    "category": "Compute optimized",
    "gpuNum": 0,
    "hideHardwareSpecs": false,
    "memoryGiB": 8,
    "name": "ml.c5.xlarge",
    "vcpuNum": 4
   },
   {
    "_defaultOrder": 23,
    "_isFastLaunch": false,
    "category": "Compute optimized",
    "gpuNum": 0,
    "hideHardwareSpecs": false,
    "memoryGiB": 16,
    "name": "ml.c5.2xlarge",
    "vcpuNum": 8
   },
   {
    "_defaultOrder": 24,
    "_isFastLaunch": false,
    "category": "Compute optimized",
    "gpuNum": 0,
    "hideHardwareSpecs": false,
    "memoryGiB": 32,
    "name": "ml.c5.4xlarge",
    "vcpuNum": 16
   },
   {
    "_defaultOrder": 25,
    "_isFastLaunch": false,
    "category": "Compute optimized",
    "gpuNum": 0,
    "hideHardwareSpecs": false,
    "memoryGiB": 72,
    "name": "ml.c5.9xlarge",
    "vcpuNum": 36
   },
   {
    "_defaultOrder": 26,
    "_isFastLaunch": false,
    "category": "Compute optimized",
    "gpuNum": 0,
    "hideHardwareSpecs": false,
    "memoryGiB": 96,
    "name": "ml.c5.12xlarge",
    "vcpuNum": 48
   },
   {
    "_defaultOrder": 27,
    "_isFastLaunch": false,
    "category": "Compute optimized",
    "gpuNum": 0,
    "hideHardwareSpecs": false,
    "memoryGiB": 144,
    "name": "ml.c5.18xlarge",
    "vcpuNum": 72
   },
   {
    "_defaultOrder": 28,
    "_isFastLaunch": false,
    "category": "Compute optimized",
    "gpuNum": 0,
    "hideHardwareSpecs": false,
    "memoryGiB": 192,
    "name": "ml.c5.24xlarge",
    "vcpuNum": 96
   },
   {
    "_defaultOrder": 29,
    "_isFastLaunch": true,
    "category": "Accelerated computing",
    "gpuNum": 1,
    "hideHardwareSpecs": false,
    "memoryGiB": 16,
    "name": "ml.g4dn.xlarge",
    "vcpuNum": 4
   },
   {
    "_defaultOrder": 30,
    "_isFastLaunch": false,
    "category": "Accelerated computing",
    "gpuNum": 1,
    "hideHardwareSpecs": false,
    "memoryGiB": 32,
    "name": "ml.g4dn.2xlarge",
    "vcpuNum": 8
   },
   {
    "_defaultOrder": 31,
    "_isFastLaunch": false,
    "category": "Accelerated computing",
    "gpuNum": 1,
    "hideHardwareSpecs": false,
    "memoryGiB": 64,
    "name": "ml.g4dn.4xlarge",
    "vcpuNum": 16
   },
   {
    "_defaultOrder": 32,
    "_isFastLaunch": false,
    "category": "Accelerated computing",
    "gpuNum": 1,
    "hideHardwareSpecs": false,
    "memoryGiB": 128,
    "name": "ml.g4dn.8xlarge",
    "vcpuNum": 32
   },
   {
    "_defaultOrder": 33,
    "_isFastLaunch": false,
    "category": "Accelerated computing",
    "gpuNum": 4,
    "hideHardwareSpecs": false,
    "memoryGiB": 192,
    "name": "ml.g4dn.12xlarge",
    "vcpuNum": 48
   },
   {
    "_defaultOrder": 34,
    "_isFastLaunch": false,
    "category": "Accelerated computing",
    "gpuNum": 1,
    "hideHardwareSpecs": false,
    "memoryGiB": 256,
    "name": "ml.g4dn.16xlarge",
    "vcpuNum": 64
   },
   {
    "_defaultOrder": 35,
    "_isFastLaunch": false,
    "category": "Accelerated computing",
    "gpuNum": 1,
    "hideHardwareSpecs": false,
    "memoryGiB": 61,
    "name": "ml.p3.2xlarge",
    "vcpuNum": 8
   },
   {
    "_defaultOrder": 36,
    "_isFastLaunch": false,
    "category": "Accelerated computing",
    "gpuNum": 4,
    "hideHardwareSpecs": false,
    "memoryGiB": 244,
    "name": "ml.p3.8xlarge",
    "vcpuNum": 32
   },
   {
    "_defaultOrder": 37,
    "_isFastLaunch": false,
    "category": "Accelerated computing",
    "gpuNum": 8,
    "hideHardwareSpecs": false,
    "memoryGiB": 488,
    "name": "ml.p3.16xlarge",
    "vcpuNum": 64
   },
   {
    "_defaultOrder": 38,
    "_isFastLaunch": false,
    "category": "Accelerated computing",
    "gpuNum": 8,
    "hideHardwareSpecs": false,
    "memoryGiB": 768,
    "name": "ml.p3dn.24xlarge",
    "vcpuNum": 96
   },
   {
    "_defaultOrder": 39,
    "_isFastLaunch": false,
    "category": "Memory Optimized",
    "gpuNum": 0,
    "hideHardwareSpecs": false,
    "memoryGiB": 16,
    "name": "ml.r5.large",
    "vcpuNum": 2
   },
   {
    "_defaultOrder": 40,
    "_isFastLaunch": false,
    "category": "Memory Optimized",
    "gpuNum": 0,
    "hideHardwareSpecs": false,
    "memoryGiB": 32,
    "name": "ml.r5.xlarge",
    "vcpuNum": 4
   },
   {
    "_defaultOrder": 41,
    "_isFastLaunch": false,
    "category": "Memory Optimized",
    "gpuNum": 0,
    "hideHardwareSpecs": false,
    "memoryGiB": 64,
    "name": "ml.r5.2xlarge",
    "vcpuNum": 8
   },
   {
    "_defaultOrder": 42,
    "_isFastLaunch": false,
    "category": "Memory Optimized",
    "gpuNum": 0,
    "hideHardwareSpecs": false,
    "memoryGiB": 128,
    "name": "ml.r5.4xlarge",
    "vcpuNum": 16
   },
   {
    "_defaultOrder": 43,
    "_isFastLaunch": false,
    "category": "Memory Optimized",
    "gpuNum": 0,
    "hideHardwareSpecs": false,
    "memoryGiB": 256,
    "name": "ml.r5.8xlarge",
    "vcpuNum": 32
   },
   {
    "_defaultOrder": 44,
    "_isFastLaunch": false,
    "category": "Memory Optimized",
    "gpuNum": 0,
    "hideHardwareSpecs": false,
    "memoryGiB": 384,
    "name": "ml.r5.12xlarge",
    "vcpuNum": 48
   },
   {
    "_defaultOrder": 45,
    "_isFastLaunch": false,
    "category": "Memory Optimized",
    "gpuNum": 0,
    "hideHardwareSpecs": false,
    "memoryGiB": 512,
    "name": "ml.r5.16xlarge",
    "vcpuNum": 64
   },
   {
    "_defaultOrder": 46,
    "_isFastLaunch": false,
    "category": "Memory Optimized",
    "gpuNum": 0,
    "hideHardwareSpecs": false,
    "memoryGiB": 768,
    "name": "ml.r5.24xlarge",
    "vcpuNum": 96
   },
   {
    "_defaultOrder": 47,
    "_isFastLaunch": false,
    "category": "Accelerated computing",
    "gpuNum": 1,
    "hideHardwareSpecs": false,
    "memoryGiB": 16,
    "name": "ml.g5.xlarge",
    "vcpuNum": 4
   },
   {
    "_defaultOrder": 48,
    "_isFastLaunch": false,
    "category": "Accelerated computing",
    "gpuNum": 1,
    "hideHardwareSpecs": false,
    "memoryGiB": 32,
    "name": "ml.g5.2xlarge",
    "vcpuNum": 8
   },
   {
    "_defaultOrder": 49,
    "_isFastLaunch": false,
    "category": "Accelerated computing",
    "gpuNum": 1,
    "hideHardwareSpecs": false,
    "memoryGiB": 64,
    "name": "ml.g5.4xlarge",
    "vcpuNum": 16
   },
   {
    "_defaultOrder": 50,
    "_isFastLaunch": false,
    "category": "Accelerated computing",
    "gpuNum": 1,
    "hideHardwareSpecs": false,
    "memoryGiB": 128,
    "name": "ml.g5.8xlarge",
    "vcpuNum": 32
   },
   {
    "_defaultOrder": 51,
    "_isFastLaunch": false,
    "category": "Accelerated computing",
    "gpuNum": 1,
    "hideHardwareSpecs": false,
    "memoryGiB": 256,
    "name": "ml.g5.16xlarge",
    "vcpuNum": 64
   },
   {
    "_defaultOrder": 52,
    "_isFastLaunch": false,
    "category": "Accelerated computing",
    "gpuNum": 4,
    "hideHardwareSpecs": false,
    "memoryGiB": 192,
    "name": "ml.g5.12xlarge",
    "vcpuNum": 48
   },
   {
    "_defaultOrder": 53,
    "_isFastLaunch": false,
    "category": "Accelerated computing",
    "gpuNum": 4,
    "hideHardwareSpecs": false,
    "memoryGiB": 384,
    "name": "ml.g5.24xlarge",
    "vcpuNum": 96
   },
   {
    "_defaultOrder": 54,
    "_isFastLaunch": false,
    "category": "Accelerated computing",
    "gpuNum": 8,
    "hideHardwareSpecs": false,
    "memoryGiB": 768,
    "name": "ml.g5.48xlarge",
    "vcpuNum": 192
   },
   {
    "_defaultOrder": 55,
    "_isFastLaunch": false,
    "category": "Accelerated computing",
    "gpuNum": 8,
    "hideHardwareSpecs": false,
    "memoryGiB": 1152,
    "name": "ml.p4d.24xlarge",
    "vcpuNum": 96
   },
   {
    "_defaultOrder": 56,
    "_isFastLaunch": false,
    "category": "Accelerated computing",
    "gpuNum": 8,
    "hideHardwareSpecs": false,
    "memoryGiB": 1152,
    "name": "ml.p4de.24xlarge",
    "vcpuNum": 96
   },
   {
    "_defaultOrder": 57,
    "_isFastLaunch": false,
    "category": "Accelerated computing",
    "gpuNum": 0,
    "hideHardwareSpecs": false,
    "memoryGiB": 32,
    "name": "ml.trn1.2xlarge",
    "vcpuNum": 8
   },
   {
    "_defaultOrder": 58,
    "_isFastLaunch": false,
    "category": "Accelerated computing",
    "gpuNum": 0,
    "hideHardwareSpecs": false,
    "memoryGiB": 512,
    "name": "ml.trn1.32xlarge",
    "vcpuNum": 128
   },
   {
    "_defaultOrder": 59,
    "_isFastLaunch": false,
    "category": "Accelerated computing",
    "gpuNum": 0,
    "hideHardwareSpecs": false,
    "memoryGiB": 512,
    "name": "ml.trn1n.32xlarge",
    "vcpuNum": 128
   }
  ],
  "kernelspec": {
   "display_name": "Python 3 (Data Science 4.0)",
   "language": "python",
   "name": "python3__SAGEMAKER_INTERNAL__arn:aws:sagemaker:us-east-1:081325390199:image/sagemaker-data-science-311-v1"
  },
  "language_info": {
   "codemirror_mode": {
    "name": "ipython",
    "version": 3
   },
   "file_extension": ".py",
   "mimetype": "text/x-python",
   "name": "python",
   "nbconvert_exporter": "python",
   "pygments_lexer": "ipython3",
   "version": "3.11.9"
  }
 },
 "nbformat": 4,
 "nbformat_minor": 5
}
