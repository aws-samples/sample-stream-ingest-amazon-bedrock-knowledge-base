{
 "cells": [
  {
   "cell_type": "code",
   "execution_count": null,
   "id": "d1bc3fb1-0b68-4cc4-9ea5-7537fb1da690",
   "metadata": {},
   "outputs": [],
   "source": [
    "%store -r"
   ]
  },
  {
   "cell_type": "code",
   "execution_count": null,
   "id": "c5b4fff4-8f9e-48ff-8ab4-a842e69a2359",
   "metadata": {},
   "outputs": [],
   "source": [
    "import boto3\n",
    "import botocore.exceptions\n",
    "import time"
   ]
  },
  {
   "cell_type": "code",
   "execution_count": null,
   "id": "80494539-4f23-472e-b607-300123c04e44",
   "metadata": {},
   "outputs": [],
   "source": [
    "# Get event source mapppings UUID\n",
    "\n",
    "lambda_client = boto3.client('lambda')\n",
    "\n",
    "try:\n",
    "    list_event_source_mappings_response = lambda_client.list_event_source_mappings(\n",
    "        FunctionName = LambdaFunctionName,\n",
    "        EventSourceArn=MSKClusterArn\n",
    "    )\n",
    "    for mapping in list_event_source_mappings_response['EventSourceMappings']:\n",
    "        print('Event source mapping UUID:', mapping['UUID'])\n",
    "        event_source_mapping_uuid = mapping['UUID']\n",
    "except botocore.exceptions.ClientError as error:\n",
    "    print(error)\n",
    "    raise error"
   ]
  },
  {
   "cell_type": "code",
   "execution_count": null,
   "id": "39cbdfd4-74a9-4538-8a8b-cefac7cbc9ee",
   "metadata": {},
   "outputs": [],
   "source": [
    "# Delete the event source mapping\n",
    "\n",
    "lambda_client = boto3.client('lambda')\n",
    "\n",
    "try:\n",
    "    delete_event_source_mapping_response = lambda_client.delete_event_source_mapping(\n",
    "        UUID = event_source_mapping_uuid\n",
    "    )\n",
    "    print(delete_event_source_mapping_response)\n",
    "except botocore.exceptions.ClientError as error:\n",
    "    print(error)\n",
    "    raise error"
   ]
  },
  {
   "cell_type": "code",
   "execution_count": null,
   "id": "a86a9713-d4b6-4c04-aae1-1e40c5a53f9d",
   "metadata": {},
   "outputs": [],
   "source": [
    "# Ensure the event source mapping id deleted\n",
    "\n",
    "lambda_client = boto3.client('lambda')\n",
    "mapping_check = 'active'\n",
    "\n",
    "max_time = time.time() + 1*60*60 # 1 hour\n",
    "\n",
    "while time.time() < max_time:\n",
    "    try:\n",
    "        list_event_source_mappings_response = lambda_client.list_event_source_mappings(\n",
    "            FunctionName = LambdaFunctionName,\n",
    "            EventSourceArn=MSKClusterArn\n",
    "        )\n",
    "        if not list_event_source_mappings_response['EventSourceMappings']:\n",
    "            mapping_check = 'inactive'\n",
    "        else:\n",
    "            mapping_check = 'active'\n",
    "    except botocore.exceptions.ClientError as error:\n",
    "        print(error)\n",
    "        raise error\n",
    "\n",
    "    if mapping_check == \"inactive\":\n",
    "        print('Event source mapping deleted')\n",
    "        break\n",
    "    else:\n",
    "        print('Event source mapping deleting')\n",
    "    time.sleep(30)"
   ]
  },
  {
   "cell_type": "code",
   "execution_count": null,
   "id": "c7814521-7458-4c66-9919-f6e3d3f8b5af",
   "metadata": {},
   "outputs": [],
   "source": []
  }
 ],
 "metadata": {
  "kernelspec": {
   "display_name": "Python 3 (ipykernel)",
   "language": "python",
   "name": "python3"
  },
  "language_info": {
   "codemirror_mode": {
    "name": "ipython",
    "version": 3
   },
   "file_extension": ".py",
   "mimetype": "text/x-python",
   "name": "python",
   "nbconvert_exporter": "python",
   "pygments_lexer": "ipython3",
   "version": "3.11.11"
  }
 },
 "nbformat": 4,
 "nbformat_minor": 5
}
