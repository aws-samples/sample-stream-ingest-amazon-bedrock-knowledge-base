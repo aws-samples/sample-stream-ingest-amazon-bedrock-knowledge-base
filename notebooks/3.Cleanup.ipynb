{
 "cells": [
  {
   "cell_type": "code",
   "execution_count": 5,
   "id": "d1bc3fb1-0b68-4cc4-9ea5-7537fb1da690",
   "metadata": {},
   "outputs": [],
   "source": [
    "%store -r"
   ]
  },
  {
   "cell_type": "code",
   "execution_count": 6,
   "id": "c5b4fff4-8f9e-48ff-8ab4-a842e69a2359",
   "metadata": {},
   "outputs": [],
   "source": [
    "import boto3\n",
    "import botocore.exceptions\n",
    "import time"
   ]
  },
  {
   "cell_type": "code",
   "execution_count": 7,
   "id": "80494539-4f23-472e-b607-300123c04e44",
   "metadata": {},
   "outputs": [
    {
     "name": "stdout",
     "output_type": "stream",
     "text": [
      "Event source mapping UUID: 491b1ceb-6e02-445d-9d44-4b7715966a56\n"
     ]
    }
   ],
   "source": [
    "# Get event source mapppings UUID\n",
    "\n",
    "lambda_client = boto3.client('lambda')\n",
    "\n",
    "try:\n",
    "    list_event_source_mappings_response = lambda_client.list_event_source_mappings(\n",
    "        FunctionName = LambdaFunctionName,\n",
    "        EventSourceArn=MSKClusterArn\n",
    "    )\n",
    "    for mapping in list_event_source_mappings_response['EventSourceMappings']:\n",
    "        print('Event source mapping UUID:', mapping['UUID'])\n",
    "        event_source_mapping_uuid = mapping['UUID']\n",
    "except botocore.exceptions.ClientError as error:\n",
    "    print(error)\n",
    "    raise error"
   ]
  },
  {
   "cell_type": "code",
   "execution_count": 8,
   "id": "39cbdfd4-74a9-4538-8a8b-cefac7cbc9ee",
   "metadata": {},
   "outputs": [
    {
     "name": "stdout",
     "output_type": "stream",
     "text": [
      "{'ResponseMetadata': {'RequestId': '83c9dff1-80a8-460c-981c-c22f0e29a749', 'HTTPStatusCode': 202, 'HTTPHeaders': {'date': 'Thu, 23 Jan 2025 19:55:07 GMT', 'content-type': 'application/json', 'content-length': '1280', 'connection': 'keep-alive', 'x-amzn-requestid': '83c9dff1-80a8-460c-981c-c22f0e29a749'}, 'RetryAttempts': 0}, 'UUID': '491b1ceb-6e02-445d-9d44-4b7715966a56', 'StartingPosition': 'LATEST', 'BatchSize': 100, 'EventSourceArn': 'arn:aws:kafka:us-east-1:825222715469:cluster/BedrockStreamIngestTest3MSKCluster/cf6bf71b-132e-4d2b-be15-f171515967ad-25', 'FunctionArn': 'arn:aws:lambda:us-east-1:825222715469:function:BedrockStreamIngestTest3KafkaConsumerLambdaFunction', 'LastModified': datetime.datetime(2025, 1, 23, 19, 55, 7, 183000, tzinfo=tzlocal()), 'LastProcessingResult': 'OK', 'State': 'Deleting', 'StateTransitionReason': 'USER_INITIATED', 'Topics': ['streamtopic'], 'AmazonManagedKafkaEventSourceConfig': {'ConsumerGroupId': '491b1ceb-6e02-445d-9d44-4b7715966a56'}}\n"
     ]
    }
   ],
   "source": [
    "# Delete the event source mapping\n",
    "\n",
    "lambda_client = boto3.client('lambda')\n",
    "\n",
    "try:\n",
    "    delete_event_source_mapping_response = lambda_client.delete_event_source_mapping(\n",
    "        UUID = event_source_mapping_uuid\n",
    "    )\n",
    "    print(delete_event_source_mapping_response)\n",
    "except botocore.exceptions.ClientError as error:\n",
    "    print(error)\n",
    "    raise error"
   ]
  },
  {
   "cell_type": "code",
   "execution_count": 23,
   "id": "a86a9713-d4b6-4c04-aae1-1e40c5a53f9d",
   "metadata": {},
   "outputs": [
    {
     "name": "stdout",
     "output_type": "stream",
     "text": [
      "Event source mapping deleted\n"
     ]
    }
   ],
   "source": [
    "# Ensure the event source mapping id deleted\n",
    "\n",
    "lambda_client = boto3.client('lambda')\n",
    "mapping_check = 'active'\n",
    "\n",
    "max_time = time.time() + 1*60*60 # 1 hour\n",
    "\n",
    "while time.time() < max_time:\n",
    "    try:\n",
    "        list_event_source_mappings_response = lambda_client.list_event_source_mappings(\n",
    "            FunctionName = LambdaFunctionName,\n",
    "            EventSourceArn=MSKClusterArn\n",
    "        )\n",
    "        if not list_event_source_mappings_response['EventSourceMappings']:\n",
    "            mapping_check = 'inactive'\n",
    "        else:\n",
    "            mapping_check = 'active'\n",
    "    except botocore.exceptions.ClientError as error:\n",
    "        print(error)\n",
    "        raise error\n",
    "\n",
    "    if mapping_check == \"inactive\":\n",
    "        print('Event source mapping deleted')\n",
    "        break\n",
    "    else:\n",
    "        print('Event source mapping deleting')\n",
    "    time.sleep(30)"
   ]
  },
  {
   "cell_type": "code",
   "execution_count": null,
   "id": "c7814521-7458-4c66-9919-f6e3d3f8b5af",
   "metadata": {},
   "outputs": [],
   "source": []
  }
 ],
 "metadata": {
  "kernelspec": {
   "display_name": "Python 3 (ipykernel)",
   "language": "python",
   "name": "python3"
  },
  "language_info": {
   "codemirror_mode": {
    "name": "ipython",
    "version": 3
   },
   "file_extension": ".py",
   "mimetype": "text/x-python",
   "name": "python",
   "nbconvert_exporter": "python",
   "pygments_lexer": "ipython3",
   "version": "3.11.11"
  }
 },
 "nbformat": 4,
 "nbformat_minor": 5
}
